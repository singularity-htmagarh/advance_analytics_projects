{
 "cells": [
  {
   "cell_type": "code",
   "execution_count": 1,
   "metadata": {},
   "outputs": [],
   "source": [
    "# For yahoo finance\n",
    "import io\n",
    "import re\n",
    "import requests"
   ]
  },
  {
   "cell_type": "code",
   "execution_count": 5,
   "metadata": {},
   "outputs": [
    {
     "name": "stdout",
     "output_type": "stream",
     "text": [
      "2.2.3\n"
     ]
    }
   ],
   "source": [
    "import pandas\n",
    "print(pandas.__version__)"
   ]
  },
  {
   "cell_type": "code",
   "execution_count": 3,
   "metadata": {},
   "outputs": [
    {
     "name": "stdout",
     "output_type": "stream",
     "text": [
      "Collecting numpy\n",
      "  Using cached numpy-2.1.2-cp310-cp310-win_amd64.whl.metadata (59 kB)\n",
      "Using cached numpy-2.1.2-cp310-cp310-win_amd64.whl (12.9 MB)\n",
      "Installing collected packages: numpy\n",
      "Successfully installed numpy-2.1.2\n"
     ]
    }
   ],
   "source": [
    "!pip install numpy --upgrade"
   ]
  },
  {
   "cell_type": "code",
   "execution_count": 7,
   "metadata": {},
   "outputs": [
    {
     "name": "stderr",
     "output_type": "stream",
     "text": [
      "Matplotlib is building the font cache; this may take a moment.\n"
     ]
    }
   ],
   "source": [
    "# The usual suspects\n",
    "import numpy as np\n",
    "import pandas as pd\n",
    "import matplotlib.pyplot as plt"
   ]
  },
  {
   "cell_type": "code",
   "execution_count": 11,
   "metadata": {},
   "outputs": [],
   "source": [
    "# Tree models and data pre-processing\n",
    "from numpy import vstack, hstack\n",
    "# from scikit-learn import tree"
   ]
  },
  {
   "cell_type": "code",
   "execution_count": 17,
   "metadata": {},
   "outputs": [],
   "source": [
    "from sklearn import tree"
   ]
  },
  {
   "cell_type": "code",
   "execution_count": 20,
   "metadata": {},
   "outputs": [],
   "source": [
    "import seaborn as sns\n",
    "\n",
    "# Set the Seaborn style\n",
    "sns.set_style(\"darkgrid\")"
   ]
  },
  {
   "cell_type": "code",
   "execution_count": 21,
   "metadata": {},
   "outputs": [],
   "source": [
    "# Getting Yahoo finance data\n",
    "def getdata(tickers,start,end,frequency):\n",
    "    OHLC = {}\n",
    "    cookie = ''\n",
    "    crumb = ''\n",
    "    res = requests.get('https://finance.yahoo.com/quote/SPY/history')\n",
    "    cookie = res.cookies['B']\n",
    "    pattern = re.compile('.*\"CrumbStore\":\\{\"crumb\":\"(?P<crumb>[^\"]+)\"\\}')\n",
    "    for line in res.text.splitlines():\n",
    "        m = pattern.match(line)\n",
    "        if m is not None:\n",
    "            crumb = m.groupdict()['crumb']\n",
    "    for ticker in tickers:\n",
    "        url_str = \"https://query1.finance.yahoo.com/v7/finance/download/%s\"\n",
    "        url_str += \"?period1=%s&period2=%s&interval=%s&events=history&crumb=%s\"\n",
    "        url = url_str % (ticker, start, end, frequency, crumb)\n",
    "        res = requests.get(url, cookies={'B': cookie}).text\n",
    "        OHLC[ticker] = pd.read_csv(io.StringIO(res), index_col=0,\n",
    "                                   error_bad_lines=False).replace('null', np.nan).dropna()\n",
    "        OHLC[ticker].index = pd.to_datetime(OHLC[ticker].index)\n",
    "        OHLC[ticker] = OHLC[ticker].apply(pd.to_numeric)\n",
    "    return OHLC"
   ]
  },
  {
   "cell_type": "code",
   "execution_count": 22,
   "metadata": {},
   "outputs": [],
   "source": [
    "# A (lagged) technical indicator (Average True Range)\n",
    "def ATR(df, n):\n",
    "    df = df.reset_index()\n",
    "    i = 0\n",
    "    TR_l = [0]\n",
    "    while i < df.index[-1]:\n",
    "        TR = (max(df.loc[i+1, 'High'], df.loc[i, 'Close']) -\n",
    "              min(df.loc[i+1, 'Low'], df.loc[i, 'Close']))\n",
    "        TR_l.append(TR)\n",
    "        i = i + 1\n",
    "    return pd.Series(TR_l).ewm(span=n, min_periods=n).mean()"
   ]
  },
  {
   "cell_type": "code",
   "execution_count": null,
   "metadata": {},
   "outputs": [],
   "source": [
    "# Assets under consideration\n",
    "tickers = ['PEP','KO']\n",
    "\n",
    "data = None\n",
    "while data is None:\n",
    "    try:\n",
    "        data = getdata(tickers,'946685000','1687427200','1d')\n",
    "    except:s\n",
    "         pass\n",
    "\n",
    "KO = data['KO'].drop('Volume',axis=1)\n",
    "PEP = data['PEP'].drop('Volume',axis=1)"
   ]
  }
 ],
 "metadata": {
  "kernelspec": {
   "display_name": "Python 3",
   "language": "python",
   "name": "python3"
  },
  "language_info": {
   "codemirror_mode": {
    "name": "ipython",
    "version": 3
   },
   "file_extension": ".py",
   "mimetype": "text/x-python",
   "name": "python",
   "nbconvert_exporter": "python",
   "pygments_lexer": "ipython3",
   "version": "3.10.6"
  }
 },
 "nbformat": 4,
 "nbformat_minor": 2
}
